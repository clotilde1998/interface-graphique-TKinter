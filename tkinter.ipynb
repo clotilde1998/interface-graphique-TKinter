{
 "cells": [
  {
   "cell_type": "code",
   "execution_count": 33,
   "id": "698d27ef",
   "metadata": {},
   "outputs": [],
   "source": [
    "from functools import partial\n",
    "from tkinter import Tk, Label, Frame, Toplevel, Button , Canvas #importation de tkinter\n",
    "root=Tk() #creation de la fenetre racine\n",
    "\n",
    "root.title('La première fenêtre tkinter de Clotilde') # Ajout d'un titre\n",
    "root.resizable(True, False) # autoriser le redimensionnement horizontal.\n",
    "root.geometry(\"800x500-10+100\"\n",
    "             )\n",
    "f1 = Frame(root, bd=1, relief='solid')\n",
    "Label(f1, text='Fenetre 1').grid(row=0, column=0)#, label: il sert à afficher du texte\n",
    "Label(f1, text='').grid(row=0, column=1)\n",
    "\n",
    "f1.grid(row=0, column=0)\n",
    "Label(root, text='clotilde').grid(row=1, column=0)\n",
    "Label(root, text='Nadjinan').grid(row=2, column=0)\n",
    "\n",
    "label = Label(root, text=\"Bonjour\", foreground=\"#892222\",\n",
    "              background=\"#FFAAAA\", padx=\"10\", pady=\"4\")\n",
    "label.grid()\n",
    "\n",
    "def update_label(label, text):\n",
    "    \"\"\"\n",
    "    Modifie le texte d'un label.\n",
    "    \"\"\"\n",
    "    label.config(texte=text)\n",
    "    label = Label(root, text='')\n",
    "button = Button(root, text='clic', command=partial(update_label, label, text='Merci'))\n",
    "label.grid(column=0, row=0)\n",
    "button.grid(column=0, row=1)\n",
    "    \n",
    "canvas = Canvas(root, background=\"white\")\n",
    "canvas.create_rectangle((10,10), (50,50), fill='red')\n",
    "canvas.grid()\n",
    "\n",
    "root.mainloop()#lancement de la boucle principale"
   ]
  },
  {
   "cell_type": "code",
   "execution_count": null,
   "id": "0b5a03a4",
   "metadata": {},
   "outputs": [],
   "source": []
  }
 ],
 "metadata": {
  "kernelspec": {
   "display_name": "Python 3",
   "language": "python",
   "name": "python3"
  },
  "language_info": {
   "codemirror_mode": {
    "name": "ipython",
    "version": 3
   },
   "file_extension": ".py",
   "mimetype": "text/x-python",
   "name": "python",
   "nbconvert_exporter": "python",
   "pygments_lexer": "ipython3",
   "version": "3.8.8"
  }
 },
 "nbformat": 4,
 "nbformat_minor": 5
}
